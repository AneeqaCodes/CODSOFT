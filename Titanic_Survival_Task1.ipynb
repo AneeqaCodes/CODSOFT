{
  "cells": [
    {
      "cell_type": "markdown",
      "metadata": {},
      "source": [
        "# Task 1 (Data Science Internship)\n",
        "# Titanic Survival Project\n",
        "import pandas as pd\n",
        "import numpy as np\n",
        "import matplotlib.pyplot as plt\n",
        "import seaborn as sns\n",
        "from sklearn.model_selection import train_test_split\n",
        "from sklearn.preprocessing import StandardScaler\n",
        "from sklearn.linear_model import LogisticRegression\n",
        "from sklearn.metrics import accuracy_score, confusion_matrix, classification_report\n",
        "\n",
        "# Load the Titanic dataset from built-in datasets of seaborn\n",
        "titanic = sns.load_dataset('titanic')\n",
        "\n",
        "# Remove the missing values from 'age' and 'embarked' columns\n",
        "titanic.dropna(subset=['age', 'embarked'], inplace=True)\n",
        "\n",
        "# Perform one-hot encoding on categorical variables to convert them into numeric values\n",
        "titanic = pd.get_dummies(titanic, drop_first=True)\n",
        "\n",
        "X = titanic.drop(columns=['survived'])\n",
        "Y = titanic['survived']\n",
        "\n",
        "# Split the data into features X and target variable Y\n",
        "# 20% used for testing, while the rest is used for training of the model\n",
        "X_train, X_test, Y_train, Y_test = train_test_split(X, Y, test_size=0.2, random_state=42)\n",
        "\n",
        "# If features deviate from each other and are not on the same scale, that's why apply StandardScaler technique\n",
        "scaler = StandardScaler()\n",
        "X_train = scaler.fit_transform(X_train)\n",
        "X_test = scaler.transform(X_test)\n",
        "\n",
        "# Build and train logistic regression model\n",
        "modelTitanic = LogisticRegression()\n",
        "modelTitanic.fit(X_train, Y_train)\n",
        "\n",
        "# Prediction\n",
        "Y_pred = modelTitanic.predict(X_test)\n",
        "\n",
        "# Calculate the accuracy of the prediction\n",
        "accuracy = accuracy_score(Y_test, Y_pred)\n",
        "print(f\"Accuracy: {accuracy:.2f}\")\n",
        "\n",
        "# Creating a bar chart for visualization of results\n",
        "plt.figure(figsize=(6, 4))\n",
        "sns.countplot(x='survived', data=titanic, palette='Set2')\n",
        "plt.xticks([0, 1], ['Not Survived', 'Survived'])\n",
        "plt.title('Titanic Passenger Survival')\n",
        "plt.xlabel('Survival Status')\n",
        "plt.ylabel('Count')\n",
        "plt.show()"
      ]
    },
    {
      "cell_type": "code",
      "metadata": {},
      "source": [],
      "execution_count": null,
      "outputs": []
    }
  ],
  "metadata": {
    "kernelspec": {
      "display_name": "Python 3",
      "language": "python",
      "name": "python3"
    },
    "language_info": {
      "codemirror_mode": {
        "name": "ipython",
        "version,": 3
      },
      "file_extension": ".py",
      "mimetype": "text/x-python",
      "name": "python",
      "nbconvert_exporter": "python",
      "pygments_lexer": "ipython3",
      "version": "3.8.10"
    }
  },
  "nbformat": 4,
  "nbformat_minor": 2
}
